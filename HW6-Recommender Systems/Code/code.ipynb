{
 "cells": [
  {
   "cell_type": "code",
   "execution_count": 1,
   "metadata": {},
   "outputs": [
    {
     "name": "stdout",
     "output_type": "stream",
     "text": [
      "Ratings Data:\n",
      "   user_id  item_id  rating  timestamp\n",
      "0      196      242       3  881250949\n",
      "1      186      302       3  891717742\n",
      "2       22      377       1  878887116\n",
      "3      244       51       2  880606923\n",
      "4      166      346       1  886397596\n",
      "--------------------------------\n",
      "\n",
      "Movies Data:\n",
      "   item_id              title release_date  video_release_date  \\\n",
      "0        1   Toy Story (1995)  01-Jan-1995                 NaN   \n",
      "1        2   GoldenEye (1995)  01-Jan-1995                 NaN   \n",
      "2        3  Four Rooms (1995)  01-Jan-1995                 NaN   \n",
      "3        4  Get Shorty (1995)  01-Jan-1995                 NaN   \n",
      "4        5     Copycat (1995)  01-Jan-1995                 NaN   \n",
      "\n",
      "                                            IMDb_URL  unknown  Action  \\\n",
      "0  http://us.imdb.com/M/title-exact?Toy%20Story%2...        0       0   \n",
      "1  http://us.imdb.com/M/title-exact?GoldenEye%20(...        0       1   \n",
      "2  http://us.imdb.com/M/title-exact?Four%20Rooms%...        0       0   \n",
      "3  http://us.imdb.com/M/title-exact?Get%20Shorty%...        0       1   \n",
      "4  http://us.imdb.com/M/title-exact?Copycat%20(1995)        0       0   \n",
      "\n",
      "   Adventure  Animation  Children's  ...  Fantasy  Film-Noir  Horror  Musical  \\\n",
      "0          0          1           1  ...        0          0       0        0   \n",
      "1          1          0           0  ...        0          0       0        0   \n",
      "2          0          0           0  ...        0          0       0        0   \n",
      "3          0          0           0  ...        0          0       0        0   \n",
      "4          0          0           0  ...        0          0       0        0   \n",
      "\n",
      "   Mystery  Romance  Sci-Fi  Thriller  War  Western  \n",
      "0        0        0       0         0    0        0  \n",
      "1        0        0       0         1    0        0  \n",
      "2        0        0       0         1    0        0  \n",
      "3        0        0       0         0    0        0  \n",
      "4        0        0       0         1    0        0  \n",
      "\n",
      "[5 rows x 24 columns]\n",
      "--------------------------------\n",
      "\n",
      "Users Data:\n",
      "   user_id  age gender  occupation zip_code\n",
      "0        1   24      M  technician    85711\n",
      "1        2   53      F       other    94043\n",
      "2        3   23      M      writer    32067\n",
      "3        4   24      M  technician    43537\n",
      "4        5   33      F       other    15213\n"
     ]
    }
   ],
   "source": [
    "# Load files\n",
    "import pandas as pd\n",
    "\n",
    "ratings = pd.read_csv('C:/Users/JHON G. BOTELLO/OneDrive - Old Dominion University/PHD/Courses/Spring 2024/Web Science/Web-Science/HW6-Recommender Systems/Data/ml-100k/ml-100k/u.data', sep='\\t', names=['user_id', 'item_id', 'rating', 'timestamp'])\n",
    "print(\"Ratings Data:\")\n",
    "print(ratings.head())\n",
    "\n",
    "print (\"--------------------------------\")\n",
    "\n",
    "movies = pd.read_csv('C:/Users/JHON G. BOTELLO/OneDrive - Old Dominion University/PHD/Courses/Spring 2024/Web Science/Web-Science/HW6-Recommender Systems/Data/ml-100k/ml-100k/u.item', sep='|', header=None, encoding='latin-1', \n",
    "                     names=['item_id', 'title', 'release_date', 'video_release_date', \n",
    "                            'IMDb_URL', 'unknown', 'Action', 'Adventure', 'Animation', \n",
    "                            \"Children's\", 'Comedy', 'Crime', 'Documentary', 'Drama', \n",
    "                            'Fantasy', 'Film-Noir', 'Horror', 'Musical', 'Mystery', \n",
    "                            'Romance', 'Sci-Fi', 'Thriller', 'War', 'Western'])\n",
    "print(\"\\nMovies Data:\")\n",
    "print(movies.head())\n",
    "\n",
    "print (\"--------------------------------\")\n",
    "\n",
    "users = pd.read_csv('C:/Users/JHON G. BOTELLO/OneDrive - Old Dominion University/PHD/Courses/Spring 2024/Web Science/Web-Science/HW6-Recommender Systems/Data/ml-100k/ml-100k/u.user', sep='|', header=None, \n",
    "                    names=['user_id', 'age', 'gender', 'occupation', 'zip_code'])\n",
    "print(\"\\nUsers Data:\")\n",
    "print(users.head())"
   ]
  },
  {
   "cell_type": "markdown",
   "metadata": {},
   "source": [
    "### Q1: Find 3 users who are closest to you in terms of age, gender, and occupation. "
   ]
  },
  {
   "cell_type": "code",
   "execution_count": 2,
   "metadata": {},
   "outputs": [
    {
     "name": "stdout",
     "output_type": "stream",
     "text": [
      "['technician' 'other' 'writer' 'executive' 'administrator' 'student'\n",
      " 'lawyer' 'educator' 'scientist' 'entertainment' 'programmer' 'librarian'\n",
      " 'homemaker' 'artist' 'engineer' 'marketing' 'none' 'healthcare' 'retired'\n",
      " 'salesman' 'doctor']\n"
     ]
    }
   ],
   "source": [
    "print(users['occupation'].unique())"
   ]
  },
  {
   "cell_type": "code",
   "execution_count": 3,
   "metadata": {},
   "outputs": [
    {
     "name": "stdout",
     "output_type": "stream",
     "text": [
      "The 3 users closest to me are:\n",
      "     user_id  age gender occupation zip_code\n",
      "152      153   25      M    student    60641\n",
      "153      154   25      M    student    53703\n",
      "247      248   25      M    student    37235\n"
     ]
    }
   ],
   "source": [
    "# My demographic details\n",
    "jhon_age = 25\n",
    "jhon_gender = 'M'\n",
    "jhon_occupation = 'student'\n",
    "\n",
    "closest_users = users[(users['age'] == jhon_age) & (users['gender'] == jhon_gender) & (users['occupation'] == jhon_occupation)]\n",
    "closest_users = closest_users.head(3)\n",
    "\n",
    "print(\"The 3 users closest to me are:\")\n",
    "print(closest_users)"
   ]
  },
  {
   "cell_type": "code",
   "execution_count": 4,
   "metadata": {},
   "outputs": [
    {
     "name": "stdout",
     "output_type": "stream",
     "text": [
      "\n",
      "User 153:\n",
      "Top 3 Movies:\n",
      "                               title  rating\n",
      "2   Shawshank Redemption, The (1994)       5\n",
      "6                Pulp Fiction (1994)       5\n",
      "13                    Contact (1997)       5\n",
      "Bottom 3 Movies:\n",
      "                             title  rating\n",
      "0   Raiders of the Lost Ark (1981)       1\n",
      "11                Star Wars (1977)       1\n",
      "15       Return of the Jedi (1983)       1\n",
      "\n",
      "User 154:\n"
     ]
    },
    {
     "name": "stdout",
     "output_type": "stream",
     "text": [
      "Top 3 Movies:\n",
      "                title  rating\n",
      "5       Brazil (1985)       5\n",
      "12  GoodFellas (1990)       5\n",
      "13   Star Wars (1977)       5\n",
      "Bottom 3 Movies:\n",
      "                              title  rating\n",
      "2                      Evita (1996)       2\n",
      "36              Lost Highway (1997)       2\n",
      "41  Star Trek: First Contact (1996)       2\n",
      "\n",
      "User 248:\n",
      "Top 3 Movies:\n",
      "                   title  rating\n",
      "2       Rock, The (1996)       5\n",
      "4   Trainspotting (1996)       5\n",
      "6  Godfather, The (1972)       5\n",
      "Bottom 3 Movies:\n",
      "                  title  rating\n",
      "38  Forrest Gump (1994)       1\n",
      "42          Emma (1996)       1\n",
      "55  Dante's Peak (1997)       1\n"
     ]
    }
   ],
   "source": [
    "# For each of those 3 users:\n",
    "# * *Q: What are their top 3 (favorite) films?*\n",
    "# * *Q: What are their bottom 3 (least favorite) films?*\n",
    "\n",
    "def get_top_and_bottom_movies(user_id, n=3):\n",
    "    user_ratings = ratings[ratings['user_id'] == user_id]\n",
    "    merged = user_ratings.merge(movies[['item_id', 'title']], on='item_id')\n",
    "\n",
    "    top_movies = merged.nlargest(n, 'rating')[['title', 'rating']]\n",
    "    bottom_movies = merged.nsmallest(n, 'rating')[['title', 'rating']]\n",
    "\n",
    "    return top_movies, bottom_movies\n",
    "\n",
    "for _, user in closest_users.iterrows():\n",
    "    user_id = user['user_id']\n",
    "    print(f\"\\nUser {user_id}:\")\n",
    "    top_movies, bottom_movies = get_top_and_bottom_movies(user_id)\n",
    "    \n",
    "    print(\"Top 3 Movies:\")\n",
    "    print(top_movies)\n",
    "    \n",
    "    \n",
    "    print(\"Bottom 3 Movies:\")\n",
    "    print(bottom_movies)"
   ]
  },
  {
   "cell_type": "markdown",
   "metadata": {},
   "source": [
    "### Q2\n",
    "\n",
    "Based on the ratings that users have given to the movies, answer the following questions:\n",
    "\n",
    "* *Q: Which 5 users are most correlated to the* substitute you *(i.e., which 5 users rate movies most similarly to the* substitute you?)\n",
    "* *Q: Which 5 users are least correlated (i.e., negative correlation)?*\n",
    "* *Q: Explain the general operation of any functions you use from recommendations.py.*"
   ]
  },
  {
   "cell_type": "code",
   "execution_count": 5,
   "metadata": {},
   "outputs": [],
   "source": [
    "# Pearson correlation function from recomedation.py\n",
    "\n",
    "from math import sqrt\n",
    "\n",
    "def sim_pearson(prefs, p1, p2):\n",
    "    '''\n",
    "    Returns the Pearson correlation coefficient for p1 and p2.\n",
    "    '''\n",
    "\n",
    "    # Get the list of mutually rated items\n",
    "    si = {}\n",
    "    for item in prefs[p1]:\n",
    "        if item in prefs[p2]:\n",
    "            si[item] = 1\n",
    "    \n",
    "    # If they are no ratings in common, return 0\n",
    "    if len(si) == 0:\n",
    "        return 0\n",
    "    \n",
    "    # Sum calculations\n",
    "    n = len(si)\n",
    "    \n",
    "    # Sums of all the preferences\n",
    "    sum1 = sum([prefs[p1][it] for it in si])\n",
    "    sum2 = sum([prefs[p2][it] for it in si])\n",
    "    \n",
    "    # Sums of the squares\n",
    "    sum1Sq = sum([pow(prefs[p1][it], 2) for it in si])\n",
    "    sum2Sq = sum([pow(prefs[p2][it], 2) for it in si])\n",
    "    \n",
    "    # Sum of the products\n",
    "    pSum = sum([prefs[p1][it] * prefs[p2][it] for it in si])\n",
    "    \n",
    "    # Calculate r (Pearson score)\n",
    "    num = pSum - sum1 * sum2 / n\n",
    "    den = sqrt((sum1Sq - pow(sum1, 2) / n) * (sum2Sq - pow(sum2, 2) / n))\n",
    "    if den == 0:\n",
    "        return 0\n",
    "    r = num / den\n",
    "    return r\n"
   ]
  },
  {
   "cell_type": "code",
   "execution_count": 6,
   "metadata": {},
   "outputs": [
    {
     "name": "stdout",
     "output_type": "stream",
     "text": [
      "Top 5 Most Correlated Users:\n",
      "User 163: Pearson Correlation = 1.000\n",
      "User 469: Pearson Correlation = 1.000\n",
      "User 277: Pearson Correlation = 1.000\n",
      "User 340: Pearson Correlation = 1.000\n",
      "User 284: Pearson Correlation = 1.000\n",
      "\n",
      "Top 5 Least Correlated Users:\n",
      "User 939: Pearson Correlation = -1.000\n",
      "User 257: Pearson Correlation = -1.000\n",
      "User 258: Pearson Correlation = -1.000\n",
      "User 32: Pearson Correlation = -1.000\n",
      "User 231: Pearson Correlation = -1.000\n"
     ]
    }
   ],
   "source": [
    "prefs = {}\n",
    "for _, row in ratings.iterrows():\n",
    "    prefs.setdefault(row['user_id'], {})\n",
    "    prefs[row['user_id']][row['item_id']] = row['rating']\n",
    "\n",
    "substitute_jhon = 153\n",
    "correlations = []\n",
    "\n",
    "for user_id in prefs:\n",
    "    if user_id != substitute_jhon:\n",
    "        corr = sim_pearson(prefs, substitute_jhon, user_id)\n",
    "        correlations.append((user_id, corr))\n",
    "\n",
    "correlations.sort(key=lambda x: x[1], reverse=True)\n",
    "\n",
    "most_correlated = correlations[:5]\n",
    "print(\"Top 5 Most Correlated Users:\")\n",
    "for user, corr in most_correlated:\n",
    "    print(f\"User {user}: Pearson Correlation = {corr:.3f}\")\n",
    "\n",
    "least_correlated = correlations[-5:]\n",
    "print(\"\\nTop 5 Least Correlated Users:\")\n",
    "for user, corr in least_correlated:\n",
    "    print(f\"User {user}: Pearson Correlation = {corr:.3f}\")"
   ]
  },
  {
   "cell_type": "markdown",
   "metadata": {},
   "source": [
    "### Q3: Compute ratings for all the films that the *substitute you* has not seen and answer the following questions:\n",
    "\n",
    "**Q: What are the top 5 recommendations for films that the *substitute you* should see.?**\n",
    "\n",
    "**Q: What are the bottom 5 recommendations (i.e., films the *substitute you* is almost certain to hate)?**"
   ]
  },
  {
   "cell_type": "code",
   "execution_count": 7,
   "metadata": {},
   "outputs": [],
   "source": [
    "#getRecomendations form recomendation.py\n",
    "def getRecommendations(prefs, person, similarity=sim_pearson):\n",
    "    '''\n",
    "    Gets recommendations for a person by using a weighted average\n",
    "    of every other user's rankings\n",
    "    '''\n",
    "\n",
    "    totals = {}\n",
    "    simSums = {}\n",
    "    for other in prefs:\n",
    "    # Don't compare me to myself\n",
    "        if other == person:\n",
    "            continue\n",
    "        sim = similarity(prefs, person, other)\n",
    "        # Ignore scores of zero or lower\n",
    "        if sim <= 0:\n",
    "            continue\n",
    "        for item in prefs[other]:\n",
    "            # Only score movies I haven't seen yet\n",
    "            if item not in prefs[person] or prefs[person][item] == 0:\n",
    "                # Similarity * Score\n",
    "                totals.setdefault(item, 0)\n",
    "                # The final score is calculated by multiplying each item by the\n",
    "                #   similarity and adding these products together\n",
    "                totals[item] += prefs[other][item] * sim\n",
    "                # Sum of similarities\n",
    "                simSums.setdefault(item, 0)\n",
    "                simSums[item] += sim\n",
    "    # Create the normalized list\n",
    "    rankings = [(total / simSums[item], item) for (item, total) in\n",
    "                totals.items()]\n",
    "    # Return the sorted list\n",
    "    rankings.sort()\n",
    "    rankings.reverse()\n",
    "    return rankings"
   ]
  },
  {
   "cell_type": "code",
   "execution_count": 9,
   "metadata": {},
   "outputs": [
    {
     "name": "stdout",
     "output_type": "stream",
     "text": [
      "Top 5 Movie Recommendations:\n",
      "Little City (1998): Predicted Rating = 5.00\n",
      "Entertaining Angels: The Dorothy Day Story (1996): Predicted Rating = 5.00\n",
      "Aparajito (1956): Predicted Rating = 5.00\n",
      "Aiqing wansui (1994): Predicted Rating = 5.00\n",
      "World of Apu, The (Apur Sansar) (1959): Predicted Rating = 5.00\n",
      "\n",
      "Bottom 5 Movie Recommendations:\n",
      "Amityville 3-D (1983): Predicted Rating = 1.00\n",
      "Amityville 1992: It's About Time (1992): Predicted Rating = 1.00\n",
      "3 Ninjas: High Noon At Mega Mountain (1998): Predicted Rating = 1.00\n",
      "Turbo: A Power Rangers Movie (1997): Predicted Rating = 1.00\n",
      "Theodore Rex (1995): Predicted Rating = 1.00\n"
     ]
    }
   ],
   "source": [
    "substitute_user = 153\n",
    "recommendations = getRecommendations(prefs, substitute_user, similarity=sim_pearson)\n",
    "\n",
    "# Map item_id to movie titles and display the top and bottom recommendations\n",
    "recommendation_list = [(rating, movies.loc[movies['item_id'] == item_id, 'title'].iloc[0]) \n",
    "                       for rating, item_id in recommendations]\n",
    "\n",
    "# Top 5 Recommendations\n",
    "print(\"Top 5 Movie Recommendations:\")\n",
    "for predicted_rating, title in recommendation_list[:5]:\n",
    "    print(f\"{title}: Predicted Rating = {predicted_rating:.2f}\")\n",
    "\n",
    "# Bottom 5 Recommendations\n",
    "print(\"\\nBottom 5 Movie Recommendations:\")\n",
    "for predicted_rating, title in recommendation_list[-5:]:\n",
    "    print(f\"{title}: Predicted Rating = {predicted_rating:.2f}\")"
   ]
  },
  {
   "cell_type": "markdown",
   "metadata": {},
   "source": [
    "### Q4: Choose your (the real you, not the *substitute you*) favorite and least favorite film from the data. \n",
    "\n",
    "* *Q: What are the top 5 most correlated films to your favorite film?  Bottom 5 least correlated?*\n",
    "* *Q: What are the top 5 most correlated films to your least favorite film?  Bottom 5 least correlated?*\n",
    "* *Q: Based on your knowledge of the resulting films, do you agree with the results?*  In other words, do you personally like/dislike the resulting films? \n",
    "* *Q: Explain the general operation of any functions you use from recommendations.py.*"
   ]
  },
  {
   "cell_type": "code",
   "execution_count": 11,
   "metadata": {},
   "outputs": [],
   "source": [
    "favorite_movie_id = 82  # Jurassic Park (1993) \n",
    "least_favorite_movie_id = 79  # Fugitive (1993)"
   ]
  },
  {
   "cell_type": "code",
   "execution_count": null,
   "metadata": {},
   "outputs": [],
   "source": [
    "#Funtion from recomendation.py\n",
    "def topMatches(\n",
    "    prefs,\n",
    "    person,\n",
    "    n=5,\n",
    "    similarity=sim_pearson,\n",
    "):\n",
    "    '''\n",
    "    Returns the best matches for person from the prefs dictionary. \n",
    "    Number of results and similarity function are optional params.\n",
    "    '''\n",
    "\n",
    "    scores = [(similarity(prefs, person, other), other) for other in prefs\n",
    "              if other != person]\n",
    "    scores.sort()\n",
    "    scores.reverse()\n",
    "    return scores[0:n]"
   ]
  },
  {
   "cell_type": "code",
   "execution_count": 13,
   "metadata": {},
   "outputs": [],
   "source": [
    "#Funtion from recomendation.py\n",
    "def transformPrefs(prefs):\n",
    "    '''\n",
    "    Transform the recommendations into a mapping where persons are described\n",
    "    with interest scores for a given title e.g. {title: person} instead of\n",
    "    {person: title}.\n",
    "    '''\n",
    "\n",
    "    result = {}\n",
    "    for person in prefs:\n",
    "        for item in prefs[person]:\n",
    "            result.setdefault(item, {})\n",
    "            # Flip item and person\n",
    "            result[item][person] = prefs[person][item]\n",
    "    return result"
   ]
  },
  {
   "cell_type": "code",
   "execution_count": 14,
   "metadata": {},
   "outputs": [],
   "source": [
    "movies = transformPrefs(prefs)"
   ]
  },
  {
   "cell_type": "code",
   "execution_count": null,
   "metadata": {},
   "outputs": [
    {
     "name": "stdout",
     "output_type": "stream",
     "text": [
      "Top 5 Most Correlated Films:\n",
      "Movie ID: 839, Similarity Score: 1.0000000000000004\n",
      "Movie ID: 1629, Similarity Score: 1.0\n",
      "Movie ID: 1607, Similarity Score: 1.0\n",
      "Movie ID: 1605, Similarity Score: 1.0\n",
      "Movie ID: 1554, Similarity Score: 1.0\n"
     ]
    }
   ],
   "source": [
    "favorite_film_id = 82 \n",
    "top_similar = topMatches(movies, favorite_film_id, n=5)\n",
    "\n",
    "print(\"Top 5 Most Correlated Films:\")\n",
    "for score, movie_id in top_similar:\n",
    "    print(f\"Movie ID: {movie_id}, Similarity Score: {score}\")"
   ]
  },
  {
   "cell_type": "code",
   "execution_count": 22,
   "metadata": {},
   "outputs": [
    {
     "name": "stdout",
     "output_type": "stream",
     "text": [
      "Bottom 5 Least Correlated Films:\n",
      "Movie ID: 1524, Similarity Score: -1.0000000000000018\n",
      "Movie ID: 360, Similarity Score: -1.0\n",
      "Movie ID: 643, Similarity Score: -1.0\n",
      "Movie ID: 666, Similarity Score: -1.0\n",
      "Movie ID: 850, Similarity Score: -1.0\n"
     ]
    }
   ],
   "source": [
    "def bottomMatches(prefs, person, n=5, similarity=sim_pearson):\n",
    "    '''\n",
    "    Returns the least correlated matches for a given film.\n",
    "    '''\n",
    "    scores = [(similarity(prefs, person, other), other) for other in prefs if other != person]\n",
    "    scores.sort()  # Sort in ascending order for least correlation\n",
    "    return scores[:n]\n",
    "\n",
    "least_similar = bottomMatches(movies, favorite_film_id, n=5)\n",
    "\n",
    "print(\"Bottom 5 Least Correlated Films:\")\n",
    "for score, movie_id in least_similar:\n",
    "    print(f\"Movie ID: {movie_id}, Similarity Score: {score}\")\n"
   ]
  }
 ],
 "metadata": {
  "kernelspec": {
   "display_name": "Python 3",
   "language": "python",
   "name": "python3"
  },
  "language_info": {
   "codemirror_mode": {
    "name": "ipython",
    "version": 3
   },
   "file_extension": ".py",
   "mimetype": "text/x-python",
   "name": "python",
   "nbconvert_exporter": "python",
   "pygments_lexer": "ipython3",
   "version": "3.12.8"
  }
 },
 "nbformat": 4,
 "nbformat_minor": 2
}
