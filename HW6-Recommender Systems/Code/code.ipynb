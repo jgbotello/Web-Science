{
 "cells": [
  {
   "cell_type": "code",
   "execution_count": null,
   "metadata": {},
   "outputs": [
    {
     "name": "stdout",
     "output_type": "stream",
     "text": [
      "Ratings Data:\n",
      "   user_id  item_id  rating  timestamp\n",
      "0      196      242       3  881250949\n",
      "1      186      302       3  891717742\n",
      "2       22      377       1  878887116\n",
      "3      244       51       2  880606923\n",
      "4      166      346       1  886397596\n",
      "--------------------------------\n",
      "\n",
      "Movies Data:\n",
      "   item_id              title release_date  video_release_date  \\\n",
      "0        1   Toy Story (1995)  01-Jan-1995                 NaN   \n",
      "1        2   GoldenEye (1995)  01-Jan-1995                 NaN   \n",
      "2        3  Four Rooms (1995)  01-Jan-1995                 NaN   \n",
      "3        4  Get Shorty (1995)  01-Jan-1995                 NaN   \n",
      "4        5     Copycat (1995)  01-Jan-1995                 NaN   \n",
      "\n",
      "                                            IMDb_URL  unknown  Action  \\\n",
      "0  http://us.imdb.com/M/title-exact?Toy%20Story%2...        0       0   \n",
      "1  http://us.imdb.com/M/title-exact?GoldenEye%20(...        0       1   \n",
      "2  http://us.imdb.com/M/title-exact?Four%20Rooms%...        0       0   \n",
      "3  http://us.imdb.com/M/title-exact?Get%20Shorty%...        0       1   \n",
      "4  http://us.imdb.com/M/title-exact?Copycat%20(1995)        0       0   \n",
      "\n",
      "   Adventure  Animation  Children's  ...  Fantasy  Film-Noir  Horror  Musical  \\\n",
      "0          0          1           1  ...        0          0       0        0   \n",
      "1          1          0           0  ...        0          0       0        0   \n",
      "2          0          0           0  ...        0          0       0        0   \n",
      "3          0          0           0  ...        0          0       0        0   \n",
      "4          0          0           0  ...        0          0       0        0   \n",
      "\n",
      "   Mystery  Romance  Sci-Fi  Thriller  War  Western  \n",
      "0        0        0       0         0    0        0  \n",
      "1        0        0       0         1    0        0  \n",
      "2        0        0       0         1    0        0  \n",
      "3        0        0       0         0    0        0  \n",
      "4        0        0       0         1    0        0  \n",
      "\n",
      "[5 rows x 24 columns]\n",
      "--------------------------------\n",
      "\n",
      "Users Data:\n",
      "   user_id  age gender  occupation zip_code\n",
      "0        1   24      M  technician    85711\n",
      "1        2   53      F       other    94043\n",
      "2        3   23      M      writer    32067\n",
      "3        4   24      M  technician    43537\n",
      "4        5   33      F       other    15213\n"
     ]
    }
   ],
   "source": [
    "# Load files\n",
    "import pandas as pd\n",
    "\n",
    "# Load u.data\n",
    "ratings = pd.read_csv('C:/Users/JHON G. BOTELLO/OneDrive - Old Dominion University/PHD/Courses/Spring 2024/Web Science/Web-Science/HW6-Recommender Systems/Data/ml-100k/ml-100k/u.data', sep='\\t', names=['user_id', 'item_id', 'rating', 'timestamp'])\n",
    "print(\"Ratings Data:\")\n",
    "print(ratings.head())\n",
    "\n",
    "print (\"--------------------------------\")\n",
    "\n",
    "movies = pd.read_csv('C:/Users/JHON G. BOTELLO/OneDrive - Old Dominion University/PHD/Courses/Spring 2024/Web Science/Web-Science/HW6-Recommender Systems/Data/ml-100k/ml-100k/u.item', sep='|', header=None, encoding='latin-1', \n",
    "                     names=['item_id', 'title', 'release_date', 'video_release_date', \n",
    "                            'IMDb_URL', 'unknown', 'Action', 'Adventure', 'Animation', \n",
    "                            \"Children's\", 'Comedy', 'Crime', 'Documentary', 'Drama', \n",
    "                            'Fantasy', 'Film-Noir', 'Horror', 'Musical', 'Mystery', \n",
    "                            'Romance', 'Sci-Fi', 'Thriller', 'War', 'Western'])\n",
    "print(\"\\nMovies Data:\")\n",
    "print(movies.head())\n",
    "\n",
    "print (\"--------------------------------\")\n",
    "\n",
    "users = pd.read_csv('C:/Users/JHON G. BOTELLO/OneDrive - Old Dominion University/PHD/Courses/Spring 2024/Web Science/Web-Science/HW6-Recommender Systems/Data/ml-100k/ml-100k/u.user', sep='|', header=None, \n",
    "                    names=['user_id', 'age', 'gender', 'occupation', 'zip_code'])\n",
    "print(\"\\nUsers Data:\")\n",
    "print(users.head())"
   ]
  },
  {
   "cell_type": "markdown",
   "metadata": {},
   "source": [
    "### Q1: Find 3 users who are closest to you in terms of age, gender, and occupation. "
   ]
  },
  {
   "cell_type": "code",
   "execution_count": 9,
   "metadata": {},
   "outputs": [
    {
     "name": "stdout",
     "output_type": "stream",
     "text": [
      "['technician' 'other' 'writer' 'executive' 'administrator' 'student'\n",
      " 'lawyer' 'educator' 'scientist' 'entertainment' 'programmer' 'librarian'\n",
      " 'homemaker' 'artist' 'engineer' 'marketing' 'none' 'healthcare' 'retired'\n",
      " 'salesman' 'doctor']\n"
     ]
    }
   ],
   "source": [
    "print(users['occupation'].unique())"
   ]
  },
  {
   "cell_type": "code",
   "execution_count": 10,
   "metadata": {},
   "outputs": [
    {
     "name": "stdout",
     "output_type": "stream",
     "text": [
      "The 3 closest users to me are:\n",
      "     user_id  age gender occupation zip_code\n",
      "152      153   25      M    student    60641\n",
      "153      154   25      M    student    53703\n",
      "247      248   25      M    student    37235\n"
     ]
    }
   ],
   "source": [
    "# My demographic details\n",
    "jhon_age = 25\n",
    "jhon_gender = 'M'\n",
    "jhon_occupation = 'student'\n",
    "\n",
    "closest_users = users[(users['age'] == jhon_age) & (users['gender'] == jhon_gender) & (users['occupation'] == jhon_occupation)]\n",
    "closest_users = closest_users.head(3)\n",
    "\n",
    "print(\"The 3 closest users to me are:\")\n",
    "print(closest_users)"
   ]
  },
  {
   "cell_type": "code",
   "execution_count": 11,
   "metadata": {},
   "outputs": [
    {
     "name": "stdout",
     "output_type": "stream",
     "text": [
      "\n",
      "User 153:\n",
      "Top 3 Movies:\n",
      "                               title  rating\n",
      "2   Shawshank Redemption, The (1994)       5\n",
      "6                Pulp Fiction (1994)       5\n",
      "13                    Contact (1997)       5\n",
      "Bottom 3 Movies:\n",
      "                             title  rating\n",
      "0   Raiders of the Lost Ark (1981)       1\n",
      "11                Star Wars (1977)       1\n",
      "15       Return of the Jedi (1983)       1\n",
      "\n",
      "User 154:\n",
      "Top 3 Movies:\n",
      "                title  rating\n",
      "5       Brazil (1985)       5\n",
      "12  GoodFellas (1990)       5\n",
      "13   Star Wars (1977)       5\n",
      "Bottom 3 Movies:\n",
      "                              title  rating\n",
      "2                      Evita (1996)       2\n",
      "36              Lost Highway (1997)       2\n",
      "41  Star Trek: First Contact (1996)       2\n",
      "\n",
      "User 248:\n",
      "Top 3 Movies:\n",
      "                   title  rating\n",
      "2       Rock, The (1996)       5\n",
      "4   Trainspotting (1996)       5\n",
      "6  Godfather, The (1972)       5\n",
      "Bottom 3 Movies:\n",
      "                  title  rating\n",
      "38  Forrest Gump (1994)       1\n",
      "42          Emma (1996)       1\n",
      "55  Dante's Peak (1997)       1\n"
     ]
    }
   ],
   "source": [
    "# For each of those 3 users:\n",
    "# * *Q: What are their top 3 (favorite) films?*\n",
    "# * *Q: What are their bottom 3 (least favorite) films?*\n",
    "\n",
    "def get_top_and_bottom_movies(user_id, n=3):\n",
    "    user_ratings = ratings[ratings['user_id'] == user_id]\n",
    "    merged = user_ratings.merge(movies[['item_id', 'title']], on='item_id')\n",
    "\n",
    "    top_movies = merged.nlargest(n, 'rating')[['title', 'rating']]\n",
    "    bottom_movies = merged.nsmallest(n, 'rating')[['title', 'rating']]\n",
    "\n",
    "    return top_movies, bottom_movies\n",
    "\n",
    "for _, user in closest_users.iterrows():\n",
    "    user_id = user['user_id']\n",
    "    print(f\"\\nUser {user_id}:\")\n",
    "    top_movies, bottom_movies = get_top_and_bottom_movies(user_id)\n",
    "    \n",
    "    print(\"Top 3 Movies:\")\n",
    "    print(top_movies)\n",
    "    \n",
    "    \n",
    "    print(\"Bottom 3 Movies:\")\n",
    "    print(bottom_movies)"
   ]
  }
 ],
 "metadata": {
  "kernelspec": {
   "display_name": "Python 3",
   "language": "python",
   "name": "python3"
  },
  "language_info": {
   "codemirror_mode": {
    "name": "ipython",
    "version": 3
   },
   "file_extension": ".py",
   "mimetype": "text/x-python",
   "name": "python",
   "nbconvert_exporter": "python",
   "pygments_lexer": "ipython3",
   "version": "3.12.8"
  }
 },
 "nbformat": 4,
 "nbformat_minor": 2
}
